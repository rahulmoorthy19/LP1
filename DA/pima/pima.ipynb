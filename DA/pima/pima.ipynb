{
 "cells": [
  {
   "cell_type": "code",
   "execution_count": 1,
   "metadata": {},
   "outputs": [],
   "source": [
    "import pandas as pd\n",
    "from sklearn.model_selection import train_test_split"
   ]
  },
  {
   "cell_type": "code",
   "execution_count": 2,
   "metadata": {},
   "outputs": [],
   "source": [
    "train=pd.read_csv(\"diabetes.csv\")"
   ]
  },
  {
   "cell_type": "code",
   "execution_count": 3,
   "metadata": {},
   "outputs": [
    {
     "data": {
      "text/html": [
       "<div>\n",
       "<style scoped>\n",
       "    .dataframe tbody tr th:only-of-type {\n",
       "        vertical-align: middle;\n",
       "    }\n",
       "\n",
       "    .dataframe tbody tr th {\n",
       "        vertical-align: top;\n",
       "    }\n",
       "\n",
       "    .dataframe thead th {\n",
       "        text-align: right;\n",
       "    }\n",
       "</style>\n",
       "<table border=\"1\" class=\"dataframe\">\n",
       "  <thead>\n",
       "    <tr style=\"text-align: right;\">\n",
       "      <th></th>\n",
       "      <th>Pregnancies</th>\n",
       "      <th>Glucose</th>\n",
       "      <th>BloodPressure</th>\n",
       "      <th>SkinThickness</th>\n",
       "      <th>Insulin</th>\n",
       "      <th>BMI</th>\n",
       "      <th>DiabetesPedigreeFunction</th>\n",
       "      <th>Age</th>\n",
       "      <th>Outcome</th>\n",
       "    </tr>\n",
       "  </thead>\n",
       "  <tbody>\n",
       "    <tr>\n",
       "      <th>0</th>\n",
       "      <td>6</td>\n",
       "      <td>148</td>\n",
       "      <td>72</td>\n",
       "      <td>35</td>\n",
       "      <td>0</td>\n",
       "      <td>33.6</td>\n",
       "      <td>0.627</td>\n",
       "      <td>50</td>\n",
       "      <td>1</td>\n",
       "    </tr>\n",
       "    <tr>\n",
       "      <th>1</th>\n",
       "      <td>1</td>\n",
       "      <td>85</td>\n",
       "      <td>66</td>\n",
       "      <td>29</td>\n",
       "      <td>0</td>\n",
       "      <td>26.6</td>\n",
       "      <td>0.351</td>\n",
       "      <td>31</td>\n",
       "      <td>0</td>\n",
       "    </tr>\n",
       "    <tr>\n",
       "      <th>2</th>\n",
       "      <td>8</td>\n",
       "      <td>183</td>\n",
       "      <td>64</td>\n",
       "      <td>0</td>\n",
       "      <td>0</td>\n",
       "      <td>23.3</td>\n",
       "      <td>0.672</td>\n",
       "      <td>32</td>\n",
       "      <td>1</td>\n",
       "    </tr>\n",
       "    <tr>\n",
       "      <th>3</th>\n",
       "      <td>1</td>\n",
       "      <td>89</td>\n",
       "      <td>66</td>\n",
       "      <td>23</td>\n",
       "      <td>94</td>\n",
       "      <td>28.1</td>\n",
       "      <td>0.167</td>\n",
       "      <td>21</td>\n",
       "      <td>0</td>\n",
       "    </tr>\n",
       "    <tr>\n",
       "      <th>4</th>\n",
       "      <td>0</td>\n",
       "      <td>137</td>\n",
       "      <td>40</td>\n",
       "      <td>35</td>\n",
       "      <td>168</td>\n",
       "      <td>43.1</td>\n",
       "      <td>2.288</td>\n",
       "      <td>33</td>\n",
       "      <td>1</td>\n",
       "    </tr>\n",
       "  </tbody>\n",
       "</table>\n",
       "</div>"
      ],
      "text/plain": [
       "   Pregnancies  Glucose  BloodPressure  SkinThickness  Insulin   BMI  \\\n",
       "0            6      148             72             35        0  33.6   \n",
       "1            1       85             66             29        0  26.6   \n",
       "2            8      183             64              0        0  23.3   \n",
       "3            1       89             66             23       94  28.1   \n",
       "4            0      137             40             35      168  43.1   \n",
       "\n",
       "   DiabetesPedigreeFunction  Age  Outcome  \n",
       "0                     0.627   50        1  \n",
       "1                     0.351   31        0  \n",
       "2                     0.672   32        1  \n",
       "3                     0.167   21        0  \n",
       "4                     2.288   33        1  "
      ]
     },
     "execution_count": 3,
     "metadata": {},
     "output_type": "execute_result"
    }
   ],
   "source": [
    "train.head()"
   ]
  },
  {
   "cell_type": "code",
   "execution_count": 4,
   "metadata": {},
   "outputs": [],
   "source": [
    "target=train[\"Outcome\"]"
   ]
  },
  {
   "cell_type": "code",
   "execution_count": 5,
   "metadata": {},
   "outputs": [],
   "source": [
    "train_x,test_x,train_y,test_y=train_test_split(train,target,test_size=0.1,shuffle=True)"
   ]
  },
  {
   "cell_type": "code",
   "execution_count": 6,
   "metadata": {},
   "outputs": [
    {
     "name": "stderr",
     "output_type": "stream",
     "text": [
      "/home/sirzechlucifer/anaconda3/lib/python3.7/site-packages/pandas/core/frame.py:3940: SettingWithCopyWarning: \n",
      "A value is trying to be set on a copy of a slice from a DataFrame\n",
      "\n",
      "See the caveats in the documentation: http://pandas.pydata.org/pandas-docs/stable/indexing.html#indexing-view-versus-copy\n",
      "  errors=errors)\n"
     ]
    }
   ],
   "source": [
    "test_x.drop(\"Outcome\",inplace=True,axis=1)"
   ]
  },
  {
   "cell_type": "code",
   "execution_count": 7,
   "metadata": {},
   "outputs": [],
   "source": [
    "def calculate_stats(train_x):\n",
    "    stats={}\n",
    "    stats[0]=[(train_x.groupby(\"Outcome\").mean()[\"Pregnancies\"][0],train_x.groupby(\"Outcome\").std()[\"Pregnancies\"][0]),\n",
    "              (train_x.groupby(\"Outcome\").mean()[\"Glucose\"][0],train_x.groupby(\"Outcome\").std()[\"Glucose\"][0]),\n",
    "              (train_x.groupby(\"Outcome\").mean()[\"BloodPressure\"][0],train_x.groupby(\"Outcome\").std()[\"BloodPressure\"][0]),\n",
    "              (train_x.groupby(\"Outcome\").mean()[\"SkinThickness\"][0],train_x.groupby(\"Outcome\").std()[\"SkinThickness\"][0]),\n",
    "              (train_x.groupby(\"Outcome\").mean()[\"Insulin\"][0],train_x.groupby(\"Outcome\").std()[\"Insulin\"][0]),\n",
    "              (train_x.groupby(\"Outcome\").mean()[\"BMI\"][0],train_x.groupby(\"Outcome\").std()[\"BMI\"][0]),\n",
    "              (train_x.groupby(\"Outcome\").mean()[\"DiabetesPedigreeFunction\"][0],train_x.groupby(\"Outcome\").std()[\"DiabetesPedigreeFunction\"][0]),\n",
    "              (train_x.groupby(\"Outcome\").mean()[\"Age\"][0],train_x.groupby(\"Outcome\").std()[\"Age\"][0])]\n",
    "    \n",
    "    stats[1]=[(train_x.groupby(\"Outcome\").mean()[\"Pregnancies\"][1],train_x.groupby(\"Outcome\").std()[\"Pregnancies\"][1]),\n",
    "              (train_x.groupby(\"Outcome\").mean()[\"Glucose\"][1],train_x.groupby(\"Outcome\").std()[\"Glucose\"][1]),\n",
    "              (train_x.groupby(\"Outcome\").mean()[\"BloodPressure\"][1],train_x.groupby(\"Outcome\").std()[\"BloodPressure\"][1]),\n",
    "              (train_x.groupby(\"Outcome\").mean()[\"SkinThickness\"][1],train_x.groupby(\"Outcome\").std()[\"SkinThickness\"][1]),\n",
    "              (train_x.groupby(\"Outcome\").mean()[\"Insulin\"][1],train_x.groupby(\"Outcome\").std()[\"Insulin\"][1]),\n",
    "              (train_x.groupby(\"Outcome\").mean()[\"BMI\"][1],train_x.groupby(\"Outcome\").std()[\"BMI\"][1]),\n",
    "              (train_x.groupby(\"Outcome\").mean()[\"DiabetesPedigreeFunction\"][1],train_x.groupby(\"Outcome\").std()[\"DiabetesPedigreeFunction\"][1]),\n",
    "              (train_x.groupby(\"Outcome\").mean()[\"Age\"][1],train_x.groupby(\"Outcome\").std()[\"Age\"][1])]\n",
    "    return stats"
   ]
  },
  {
   "cell_type": "code",
   "execution_count": 8,
   "metadata": {},
   "outputs": [],
   "source": [
    "import math\n",
    "def gaussian_probability_function(feature_value,mean,standard_dev):\n",
    "    exponent=math.exp(-((feature_value-mean)**2)/((2*standard_dev)**2))\n",
    "    function_value=(1/((math.sqrt(2*math.pi))*standard_dev))*exponent\n",
    "    return function_value"
   ]
  },
  {
   "cell_type": "code",
   "execution_count": 9,
   "metadata": {},
   "outputs": [],
   "source": [
    "def predict_calculate(train_x,input_vector):\n",
    "    stats=calculate_stats(train_x)\n",
    "    probabilities={}\n",
    "    for class_label,class_summary in stats.items():\n",
    "        probabilities[class_label]=1\n",
    "        for i in range(len(class_summary)):\n",
    "            probabilities[class_label]=probabilities[class_label]*gaussian_probability_function(input_vector[i],class_summary[i][0],class_summary[i][1])\n",
    "    return probabilities"
   ]
  },
  {
   "cell_type": "code",
   "execution_count": 10,
   "metadata": {},
   "outputs": [],
   "source": [
    "def predict(train_x,input_vector):\n",
    "    class_label,class_probability=None,-1\n",
    "    probabilities=predict_calculate(train_x,input_vector)\n",
    "    for class_label_dict,probability in probabilities.items():\n",
    "        if class_label is None or probability>class_probability:\n",
    "            class_label=class_label_dict\n",
    "            class_probability=probability\n",
    "    return class_label"
   ]
  },
  {
   "cell_type": "code",
   "execution_count": 11,
   "metadata": {},
   "outputs": [],
   "source": [
    "predictions=list()\n",
    "for index,row in test_x.iterrows():\n",
    "    label=predict(train_x,row)\n",
    "    predictions.append(label)"
   ]
  },
  {
   "cell_type": "code",
   "execution_count": 13,
   "metadata": {},
   "outputs": [],
   "source": [
    "from sklearn.metrics import accuracy_score"
   ]
  },
  {
   "cell_type": "code",
   "execution_count": 14,
   "metadata": {},
   "outputs": [
    {
     "data": {
      "text/plain": [
       "0.7792207792207793"
      ]
     },
     "execution_count": 14,
     "metadata": {},
     "output_type": "execute_result"
    }
   ],
   "source": [
    "accuracy_score(test_y,predictions)"
   ]
  },
  {
   "cell_type": "code",
   "execution_count": null,
   "metadata": {},
   "outputs": [],
   "source": []
  }
 ],
 "metadata": {
  "kernelspec": {
   "display_name": "Python 3",
   "language": "python",
   "name": "python3"
  },
  "language_info": {
   "codemirror_mode": {
    "name": "ipython",
    "version": 3
   },
   "file_extension": ".py",
   "mimetype": "text/x-python",
   "name": "python",
   "nbconvert_exporter": "python",
   "pygments_lexer": "ipython3",
   "version": "3.7.3"
  }
 },
 "nbformat": 4,
 "nbformat_minor": 2
}
